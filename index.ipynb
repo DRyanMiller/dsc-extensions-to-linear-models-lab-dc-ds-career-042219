{
 "cells": [
  {
   "cell_type": "markdown",
   "metadata": {},
   "source": [
    "# Extensions to Linear Models - Lab"
   ]
  },
  {
   "cell_type": "markdown",
   "metadata": {},
   "source": [
    "## Introduction\n",
    "\n",
    "In this lab, you'll practice many concepts learned in this section, from adding interactions and polynomials to your model to AIC and BIC!"
   ]
  },
  {
   "cell_type": "markdown",
   "metadata": {},
   "source": [
    "## Summary\n",
    "\n",
    "You will be able to:\n",
    "- Build a linear regression model with polynomial features/interactions\n",
    "- Perform regularization\n",
    "- Use AIC and BIC to select the best value for the regularization parameter\n"
   ]
  },
  {
   "cell_type": "markdown",
   "metadata": {},
   "source": [
    "## Let's get started!"
   ]
  },
  {
   "cell_type": "markdown",
   "metadata": {},
   "source": [
    "Import all the necessary packages."
   ]
  },
  {
   "cell_type": "code",
   "execution_count": 1,
   "metadata": {},
   "outputs": [],
   "source": [
    "import pandas as pd\n",
    "import numpy as np\n",
    "import matplotlib.pyplot as plt\n",
    "import warnings\n",
    "warnings.filterwarnings('ignore')\n",
    "\n",
    "from sklearn.linear_model import LinearRegression\n",
    "from sklearn.model_selection import cross_val_score\n",
    "from sklearn.model_selection import KFold\n",
    "from sklearn import preprocessing\n",
    "\n",
    "from sklearn.datasets import load_boston"
   ]
  },
  {
   "cell_type": "markdown",
   "metadata": {},
   "source": [
    "## Look at a Baseline Boston Housing Data Model"
   ]
  },
  {
   "cell_type": "markdown",
   "metadata": {},
   "source": [
    "Import the Boston housing data set, use all the predictors in their scaled version (using `preprocessing.scale`. Look at a baseline model using *scaled variables* as predictors. Use 5-fold cross-validation this time and use the $R^2$ score to evaluate the model."
   ]
  },
  {
   "cell_type": "code",
<<<<<<< HEAD
   "execution_count": 83,
   "metadata": {},
   "outputs": [],
   "source": [
    "# Your code here\n",
    "boston = load_boston()"
   ]
  },
  {
   "cell_type": "code",
   "execution_count": 84,
   "metadata": {},
   "outputs": [],
   "source": [
    "y = pd.DataFrame(boston.target,columns = [\"target\"])\n",
    "df = pd.DataFrame(boston.data, columns = boston.feature_names)"
   ]
  },
  {
   "cell_type": "code",
   "execution_count": 85,
   "metadata": {},
   "outputs": [],
   "source": [
    "scaled = preprocessing.scale(df)\n",
    "scaled_df = pd.DataFrame(scaled, columns = df.columns)\n",
    "all_data = pd.concat([scaled_df, y], axis=1)"
   ]
  },
  {
   "cell_type": "code",
   "execution_count": 86,
   "metadata": {},
   "outputs": [
    {
     "data": {
      "text/plain": [
       "0.7156331552406607"
      ]
     },
     "execution_count": 86,
     "metadata": {},
     "output_type": "execute_result"
    }
   ],
   "source": [
    "lr = LinearRegression()\n",
    "cv_5 = KFold(n_splits=5, random_state=12, shuffle=True)\n",
    "cv_5_results = np.mean(cross_val_score(lr, scaled_df, y, cv=cv_5, scoring='r2'))\n",
    "cv_5_results"
=======
   "execution_count": 2,
   "metadata": {},
   "outputs": [],
   "source": [
    "# Your code here"
>>>>>>> c323b778e3f76dd58f5370235b0611f4dfe5599d
   ]
  },
  {
   "cell_type": "markdown",
   "metadata": {},
   "source": [
    "## Include interactions\n",
    "\n",
    "Look at all the possible combinations of variables for interactions by adding interactions one by one to the baseline model. Next, evaluate that model using 5-fold classification and store the $R^2$ to compare it with the baseline model.\n",
    "\n",
    "You've created code for this before in the interactions lab, yet this time, you have scaled the variables so the outcomes may look different. \n",
    "\n",
    "Print the 7 most important interactions."
   ]
  },
  {
   "cell_type": "code",
<<<<<<< HEAD
   "execution_count": 97,
   "metadata": {
    "scrolled": true
   },
   "outputs": [
    {
     "name": "stdout",
     "output_type": "stream",
     "text": [
      "Top 7 interactions: [('RM', 'LSTAT', 0.786), ('RM', 'TAX', 0.777), ('RM', 'RAD', 0.772), ('RM', 'PTRATIO', 0.766), ('INDUS', 'RM', 0.753), ('NOX', 'RM', 0.742), ('RM', 'B', 0.74)]\n"
     ]
    }
   ],
   "source": [
    "# Your code here\n",
    "from itertools import combinations\n",
    "combinations = list(combinations(boston.feature_names, 2))\n",
    "interactions = []\n",
    "data = scaled_df.copy()\n",
    "for comb in combinations:\n",
    "    data[\"interaction\"] = data[comb[0]] * data[comb[1]]\n",
    "    score = np.mean(cross_val_score(lr, data, y, scoring=\"r2\", cv=cv_5))\n",
    "    if score > cv_5_results: interactions.append((comb[0], comb[1], round(score,3)))\n",
    "            \n",
    "print(\"Top 7 interactions: %s\" %sorted(interactions, key=lambda inter: inter[2], reverse=True)[:7])"
=======
   "execution_count": 3,
   "metadata": {},
   "outputs": [],
   "source": [
    "# Your code here"
>>>>>>> c323b778e3f76dd58f5370235b0611f4dfe5599d
   ]
  },
  {
   "cell_type": "markdown",
   "metadata": {},
   "source": [
    "Write code to include the 7 most important interactions in your data set by adding 7 columns. Name the columns \"var1_var2\" with var1 and var2 the two variables in the interaction."
   ]
  },
  {
   "cell_type": "code",
<<<<<<< HEAD
   "execution_count": 106,
   "metadata": {},
   "outputs": [],
   "source": [
    "# Your code here\n",
    "df_inter = scaled_df.copy()\n",
    "ls_interactions = sorted(interactions, key=lambda inter: inter[2], reverse=True)[:7]\n",
    "for iter_ in interactions[0:7]:\n",
    "    df_inter[iter_[0]+'_'+iter_[1]] = df_inter[iter_[0]] * df_inter[iter_[1]]\n"
   ]
  },
  {
   "cell_type": "code",
   "execution_count": 107,
   "metadata": {
    "scrolled": true
   },
   "outputs": [
    {
     "data": {
      "text/html": [
       "<div>\n",
       "<style scoped>\n",
       "    .dataframe tbody tr th:only-of-type {\n",
       "        vertical-align: middle;\n",
       "    }\n",
       "\n",
       "    .dataframe tbody tr th {\n",
       "        vertical-align: top;\n",
       "    }\n",
       "\n",
       "    .dataframe thead th {\n",
       "        text-align: right;\n",
       "    }\n",
       "</style>\n",
       "<table border=\"1\" class=\"dataframe\">\n",
       "  <thead>\n",
       "    <tr style=\"text-align: right;\">\n",
       "      <th></th>\n",
       "      <th>CRIM</th>\n",
       "      <th>ZN</th>\n",
       "      <th>INDUS</th>\n",
       "      <th>CHAS</th>\n",
       "      <th>NOX</th>\n",
       "      <th>RM</th>\n",
       "      <th>AGE</th>\n",
       "      <th>DIS</th>\n",
       "      <th>RAD</th>\n",
       "      <th>TAX</th>\n",
       "      <th>PTRATIO</th>\n",
       "      <th>B</th>\n",
       "      <th>LSTAT</th>\n",
       "      <th>CRIM_RM</th>\n",
       "      <th>CRIM_AGE</th>\n",
       "      <th>CRIM_RAD</th>\n",
       "      <th>CRIM_TAX</th>\n",
       "      <th>CRIM_PTRATIO</th>\n",
       "      <th>CRIM_B</th>\n",
       "      <th>CRIM_LSTAT</th>\n",
       "    </tr>\n",
       "  </thead>\n",
       "  <tbody>\n",
       "    <tr>\n",
       "      <th>0</th>\n",
       "      <td>-0.419782</td>\n",
       "      <td>0.284830</td>\n",
       "      <td>-1.287909</td>\n",
       "      <td>-0.272599</td>\n",
       "      <td>-0.144217</td>\n",
       "      <td>0.413672</td>\n",
       "      <td>-0.120013</td>\n",
       "      <td>0.140214</td>\n",
       "      <td>-0.982843</td>\n",
       "      <td>-0.666608</td>\n",
       "      <td>-1.459000</td>\n",
       "      <td>0.441052</td>\n",
       "      <td>-1.075562</td>\n",
       "      <td>-0.173652</td>\n",
       "      <td>0.050379</td>\n",
       "      <td>0.412580</td>\n",
       "      <td>0.279830</td>\n",
       "      <td>0.612462</td>\n",
       "      <td>-0.185146</td>\n",
       "      <td>0.451502</td>\n",
       "    </tr>\n",
       "    <tr>\n",
       "      <th>1</th>\n",
       "      <td>-0.417339</td>\n",
       "      <td>-0.487722</td>\n",
       "      <td>-0.593381</td>\n",
       "      <td>-0.272599</td>\n",
       "      <td>-0.740262</td>\n",
       "      <td>0.194274</td>\n",
       "      <td>0.367166</td>\n",
       "      <td>0.557160</td>\n",
       "      <td>-0.867883</td>\n",
       "      <td>-0.987329</td>\n",
       "      <td>-0.303094</td>\n",
       "      <td>0.441052</td>\n",
       "      <td>-0.492439</td>\n",
       "      <td>-0.081078</td>\n",
       "      <td>-0.153233</td>\n",
       "      <td>0.362201</td>\n",
       "      <td>0.412051</td>\n",
       "      <td>0.126493</td>\n",
       "      <td>-0.184068</td>\n",
       "      <td>0.205514</td>\n",
       "    </tr>\n",
       "    <tr>\n",
       "      <th>2</th>\n",
       "      <td>-0.417342</td>\n",
       "      <td>-0.487722</td>\n",
       "      <td>-0.593381</td>\n",
       "      <td>-0.272599</td>\n",
       "      <td>-0.740262</td>\n",
       "      <td>1.282714</td>\n",
       "      <td>-0.265812</td>\n",
       "      <td>0.557160</td>\n",
       "      <td>-0.867883</td>\n",
       "      <td>-0.987329</td>\n",
       "      <td>-0.303094</td>\n",
       "      <td>0.396427</td>\n",
       "      <td>-1.208727</td>\n",
       "      <td>-0.535330</td>\n",
       "      <td>0.110934</td>\n",
       "      <td>0.362203</td>\n",
       "      <td>0.412054</td>\n",
       "      <td>0.126494</td>\n",
       "      <td>-0.165445</td>\n",
       "      <td>0.504452</td>\n",
       "    </tr>\n",
       "    <tr>\n",
       "      <th>3</th>\n",
       "      <td>-0.416750</td>\n",
       "      <td>-0.487722</td>\n",
       "      <td>-1.306878</td>\n",
       "      <td>-0.272599</td>\n",
       "      <td>-0.835284</td>\n",
       "      <td>1.016303</td>\n",
       "      <td>-0.809889</td>\n",
       "      <td>1.077737</td>\n",
       "      <td>-0.752922</td>\n",
       "      <td>-1.106115</td>\n",
       "      <td>0.113032</td>\n",
       "      <td>0.416163</td>\n",
       "      <td>-1.361517</td>\n",
       "      <td>-0.423544</td>\n",
       "      <td>0.337521</td>\n",
       "      <td>0.313781</td>\n",
       "      <td>0.460974</td>\n",
       "      <td>-0.047106</td>\n",
       "      <td>-0.173436</td>\n",
       "      <td>0.567413</td>\n",
       "    </tr>\n",
       "    <tr>\n",
       "      <th>4</th>\n",
       "      <td>-0.412482</td>\n",
       "      <td>-0.487722</td>\n",
       "      <td>-1.306878</td>\n",
       "      <td>-0.272599</td>\n",
       "      <td>-0.835284</td>\n",
       "      <td>1.228577</td>\n",
       "      <td>-0.511180</td>\n",
       "      <td>1.077737</td>\n",
       "      <td>-0.752922</td>\n",
       "      <td>-1.106115</td>\n",
       "      <td>0.113032</td>\n",
       "      <td>0.441052</td>\n",
       "      <td>-1.026501</td>\n",
       "      <td>-0.506766</td>\n",
       "      <td>0.210852</td>\n",
       "      <td>0.310567</td>\n",
       "      <td>0.456252</td>\n",
       "      <td>-0.046624</td>\n",
       "      <td>-0.181926</td>\n",
       "      <td>0.423413</td>\n",
       "    </tr>\n",
       "  </tbody>\n",
       "</table>\n",
       "</div>"
      ],
      "text/plain": [
       "       CRIM        ZN     INDUS      CHAS       NOX        RM       AGE  \\\n",
       "0 -0.419782  0.284830 -1.287909 -0.272599 -0.144217  0.413672 -0.120013   \n",
       "1 -0.417339 -0.487722 -0.593381 -0.272599 -0.740262  0.194274  0.367166   \n",
       "2 -0.417342 -0.487722 -0.593381 -0.272599 -0.740262  1.282714 -0.265812   \n",
       "3 -0.416750 -0.487722 -1.306878 -0.272599 -0.835284  1.016303 -0.809889   \n",
       "4 -0.412482 -0.487722 -1.306878 -0.272599 -0.835284  1.228577 -0.511180   \n",
       "\n",
       "        DIS       RAD       TAX   PTRATIO         B     LSTAT   CRIM_RM  \\\n",
       "0  0.140214 -0.982843 -0.666608 -1.459000  0.441052 -1.075562 -0.173652   \n",
       "1  0.557160 -0.867883 -0.987329 -0.303094  0.441052 -0.492439 -0.081078   \n",
       "2  0.557160 -0.867883 -0.987329 -0.303094  0.396427 -1.208727 -0.535330   \n",
       "3  1.077737 -0.752922 -1.106115  0.113032  0.416163 -1.361517 -0.423544   \n",
       "4  1.077737 -0.752922 -1.106115  0.113032  0.441052 -1.026501 -0.506766   \n",
       "\n",
       "   CRIM_AGE  CRIM_RAD  CRIM_TAX  CRIM_PTRATIO    CRIM_B  CRIM_LSTAT  \n",
       "0  0.050379  0.412580  0.279830      0.612462 -0.185146    0.451502  \n",
       "1 -0.153233  0.362201  0.412051      0.126493 -0.184068    0.205514  \n",
       "2  0.110934  0.362203  0.412054      0.126494 -0.165445    0.504452  \n",
       "3  0.337521  0.313781  0.460974     -0.047106 -0.173436    0.567413  \n",
       "4  0.210852  0.310567  0.456252     -0.046624 -0.181926    0.423413  "
      ]
     },
     "execution_count": 107,
     "metadata": {},
     "output_type": "execute_result"
    }
   ],
   "source": [
    "df_inter.head()"
=======
   "execution_count": 4,
   "metadata": {},
   "outputs": [],
   "source": [
    "# Your code here"
>>>>>>> c323b778e3f76dd58f5370235b0611f4dfe5599d
   ]
  },
  {
   "cell_type": "markdown",
   "metadata": {},
   "source": [
    "## Include Polynomials"
   ]
  },
  {
   "cell_type": "markdown",
   "metadata": {},
   "source": [
    "Try polynomials of 2, 3 and 4 for each variable, in a similar way you did for interactions (by looking at your baseline model and seeing how $R^2$ increases). Do understand that when going for a polynomial of 4, the particular column is raised to the power of 2 and 3 as well in other terms. We only want to include \"pure\" polynomials, so make sure no interactions are included. We want the result to return a list that contain tuples of the form:\n",
    "\n",
    "`(var_name, degree, R2)`, so eg. `('DIS', 3, 0.732)`"
   ]
  },
  {
   "cell_type": "code",
<<<<<<< HEAD
   "execution_count": 110,
   "metadata": {},
   "outputs": [
    {
     "name": "stdout",
     "output_type": "stream",
     "text": [
      "Top 10 polynomials: [('RM', 4, 0.793), ('LSTAT', 4, 0.783), ('RM', 2, 0.776), ('LSTAT', 3, 0.772), ('LSTAT', 2, 0.771), ('RM', 3, 0.769), ('DIS', 3, 0.733), ('DIS', 4, 0.731), ('DIS', 2, 0.73), ('INDUS', 3, 0.723)]\n"
     ]
    }
   ],
   "source": [
    "# Your code here\n",
    "from sklearn.preprocessing import PolynomialFeatures\n",
    "polynomials = []\n",
    "\n",
    "for col in data.columns:\n",
    "    for degree in [2,3,4]:\n",
    "        data = scaled_df.copy()\n",
    "        poly = PolynomialFeatures(degree, include_bias=False)\n",
    "        X = poly.fit_transform(df[[col]])\n",
    "        data = pd.concat([data.drop(col, axis=1),pd.DataFrame(X)], axis = 1)\n",
    "        score = np.mean(cross_val_score(lr, data, y, scoring=\"r2\", cv=cv_5))\n",
    "        if score > cv_5_results: polynomials.append((col, degree, round(score,3)))\n",
    "print(\"Top 10 polynomials: %s\" %sorted(polynomials, key=lambda poly: poly[2], reverse=True)[:10])"
=======
   "execution_count": 5,
   "metadata": {},
   "outputs": [],
   "source": [
    "# Your code here"
>>>>>>> c323b778e3f76dd58f5370235b0611f4dfe5599d
   ]
  },
  {
   "cell_type": "markdown",
   "metadata": {},
   "source": [
    "For each variable, print out the maximum R2 possible when including Polynomials."
   ]
  },
  {
   "cell_type": "code",
<<<<<<< HEAD
   "execution_count": 114,
   "metadata": {},
   "outputs": [
    {
     "data": {
      "text/plain": [
       "0\n",
       "ZN         0.720\n",
       "INDUS      0.723\n",
       "CHAS       0.716\n",
       "NOX        0.718\n",
       "RM         0.793\n",
       "AGE        0.719\n",
       "DIS        0.733\n",
       "RAD        0.717\n",
       "TAX        0.723\n",
       "PTRATIO    0.719\n",
       "B          0.717\n",
       "LSTAT      0.783\n",
       "Name: 2, dtype: float64"
      ]
     },
     "execution_count": 114,
     "metadata": {},
     "output_type": "execute_result"
    }
   ],
   "source": [
    "# Your code here\n",
    "polynom = pd.DataFrame(polynomials)\n",
    "polynom.groupby([0], sort=False)[2].max()"
=======
   "execution_count": 6,
   "metadata": {},
   "outputs": [],
   "source": [
    "# Your code here"
>>>>>>> c323b778e3f76dd58f5370235b0611f4dfe5599d
   ]
  },
  {
   "cell_type": "markdown",
   "metadata": {},
   "source": [
    "Which two variables seem to benefit most from adding Polynomial terms?"
   ]
  },
  {
   "cell_type": "markdown",
   "metadata": {},
   "source": [
    "Add Polynomials for the two features that seem to benefit the most, as in have the best R squared compared to the baseline model. For each of the two feature, raise to the Polynomial that generates the best result. Make sure to start from the data set `df_inter` so the final data set has both interactions and polynomials in the model."
   ]
  },
  {
   "cell_type": "code",
<<<<<<< HEAD
   "execution_count": 115,
   "metadata": {},
   "outputs": [],
   "source": [
    "# Your code here\n",
    "for col in ['RM', 'LSTAT']:\n",
    "    poly = PolynomialFeatures(4, include_bias=False)\n",
    "    X = poly.fit_transform(df[[col]])\n",
    "    colnames= [col, col+\"_\"+\"2\", col+\"_\"+\"3\", col+\"_\"+\"4\"]\n",
    "    df_inter = pd.concat([df_inter.drop(col, axis=1),pd.DataFrame(X, columns=colnames)], axis = 1)\n"
=======
   "execution_count": 7,
   "metadata": {},
   "outputs": [],
   "source": [
    "# Your code here"
>>>>>>> c323b778e3f76dd58f5370235b0611f4dfe5599d
   ]
  },
  {
   "cell_type": "markdown",
   "metadata": {},
   "source": [
    "check out your final data set and make sure that your interaction terms as well as your polynomial terms are included."
   ]
  },
  {
   "cell_type": "code",
<<<<<<< HEAD
   "execution_count": 116,
   "metadata": {},
   "outputs": [
    {
     "data": {
      "text/html": [
       "<div>\n",
       "<style scoped>\n",
       "    .dataframe tbody tr th:only-of-type {\n",
       "        vertical-align: middle;\n",
       "    }\n",
       "\n",
       "    .dataframe tbody tr th {\n",
       "        vertical-align: top;\n",
       "    }\n",
       "\n",
       "    .dataframe thead th {\n",
       "        text-align: right;\n",
       "    }\n",
       "</style>\n",
       "<table border=\"1\" class=\"dataframe\">\n",
       "  <thead>\n",
       "    <tr style=\"text-align: right;\">\n",
       "      <th></th>\n",
       "      <th>CRIM</th>\n",
       "      <th>ZN</th>\n",
       "      <th>INDUS</th>\n",
       "      <th>CHAS</th>\n",
       "      <th>NOX</th>\n",
       "      <th>AGE</th>\n",
       "      <th>DIS</th>\n",
       "      <th>RAD</th>\n",
       "      <th>TAX</th>\n",
       "      <th>PTRATIO</th>\n",
       "      <th>...</th>\n",
       "      <th>CRIM_B</th>\n",
       "      <th>CRIM_LSTAT</th>\n",
       "      <th>RM</th>\n",
       "      <th>RM_2</th>\n",
       "      <th>RM_3</th>\n",
       "      <th>RM_4</th>\n",
       "      <th>LSTAT</th>\n",
       "      <th>LSTAT_2</th>\n",
       "      <th>LSTAT_3</th>\n",
       "      <th>LSTAT_4</th>\n",
       "    </tr>\n",
       "  </thead>\n",
       "  <tbody>\n",
       "    <tr>\n",
       "      <th>0</th>\n",
       "      <td>-0.419782</td>\n",
       "      <td>0.284830</td>\n",
       "      <td>-1.287909</td>\n",
       "      <td>-0.272599</td>\n",
       "      <td>-0.144217</td>\n",
       "      <td>-0.120013</td>\n",
       "      <td>0.140214</td>\n",
       "      <td>-0.982843</td>\n",
       "      <td>-0.666608</td>\n",
       "      <td>-1.459000</td>\n",
       "      <td>...</td>\n",
       "      <td>-0.185146</td>\n",
       "      <td>0.451502</td>\n",
       "      <td>6.575</td>\n",
       "      <td>43.230625</td>\n",
       "      <td>284.241359</td>\n",
       "      <td>1868.886938</td>\n",
       "      <td>4.98</td>\n",
       "      <td>24.8004</td>\n",
       "      <td>123.505992</td>\n",
       "      <td>615.059840</td>\n",
       "    </tr>\n",
       "    <tr>\n",
       "      <th>1</th>\n",
       "      <td>-0.417339</td>\n",
       "      <td>-0.487722</td>\n",
       "      <td>-0.593381</td>\n",
       "      <td>-0.272599</td>\n",
       "      <td>-0.740262</td>\n",
       "      <td>0.367166</td>\n",
       "      <td>0.557160</td>\n",
       "      <td>-0.867883</td>\n",
       "      <td>-0.987329</td>\n",
       "      <td>-0.303094</td>\n",
       "      <td>...</td>\n",
       "      <td>-0.184068</td>\n",
       "      <td>0.205514</td>\n",
       "      <td>6.421</td>\n",
       "      <td>41.229241</td>\n",
       "      <td>264.732956</td>\n",
       "      <td>1699.850313</td>\n",
       "      <td>9.14</td>\n",
       "      <td>83.5396</td>\n",
       "      <td>763.551944</td>\n",
       "      <td>6978.864768</td>\n",
       "    </tr>\n",
       "    <tr>\n",
       "      <th>2</th>\n",
       "      <td>-0.417342</td>\n",
       "      <td>-0.487722</td>\n",
       "      <td>-0.593381</td>\n",
       "      <td>-0.272599</td>\n",
       "      <td>-0.740262</td>\n",
       "      <td>-0.265812</td>\n",
       "      <td>0.557160</td>\n",
       "      <td>-0.867883</td>\n",
       "      <td>-0.987329</td>\n",
       "      <td>-0.303094</td>\n",
       "      <td>...</td>\n",
       "      <td>-0.165445</td>\n",
       "      <td>0.504452</td>\n",
       "      <td>7.185</td>\n",
       "      <td>51.624225</td>\n",
       "      <td>370.920057</td>\n",
       "      <td>2665.060607</td>\n",
       "      <td>4.03</td>\n",
       "      <td>16.2409</td>\n",
       "      <td>65.450827</td>\n",
       "      <td>263.766833</td>\n",
       "    </tr>\n",
       "    <tr>\n",
       "      <th>3</th>\n",
       "      <td>-0.416750</td>\n",
       "      <td>-0.487722</td>\n",
       "      <td>-1.306878</td>\n",
       "      <td>-0.272599</td>\n",
       "      <td>-0.835284</td>\n",
       "      <td>-0.809889</td>\n",
       "      <td>1.077737</td>\n",
       "      <td>-0.752922</td>\n",
       "      <td>-1.106115</td>\n",
       "      <td>0.113032</td>\n",
       "      <td>...</td>\n",
       "      <td>-0.173436</td>\n",
       "      <td>0.567413</td>\n",
       "      <td>6.998</td>\n",
       "      <td>48.972004</td>\n",
       "      <td>342.706084</td>\n",
       "      <td>2398.257176</td>\n",
       "      <td>2.94</td>\n",
       "      <td>8.6436</td>\n",
       "      <td>25.412184</td>\n",
       "      <td>74.711821</td>\n",
       "    </tr>\n",
       "    <tr>\n",
       "      <th>4</th>\n",
       "      <td>-0.412482</td>\n",
       "      <td>-0.487722</td>\n",
       "      <td>-1.306878</td>\n",
       "      <td>-0.272599</td>\n",
       "      <td>-0.835284</td>\n",
       "      <td>-0.511180</td>\n",
       "      <td>1.077737</td>\n",
       "      <td>-0.752922</td>\n",
       "      <td>-1.106115</td>\n",
       "      <td>0.113032</td>\n",
       "      <td>...</td>\n",
       "      <td>-0.181926</td>\n",
       "      <td>0.423413</td>\n",
       "      <td>7.147</td>\n",
       "      <td>51.079609</td>\n",
       "      <td>365.065966</td>\n",
       "      <td>2609.126456</td>\n",
       "      <td>5.33</td>\n",
       "      <td>28.4089</td>\n",
       "      <td>151.419437</td>\n",
       "      <td>807.065599</td>\n",
       "    </tr>\n",
       "  </tbody>\n",
       "</table>\n",
       "<p>5 rows × 26 columns</p>\n",
       "</div>"
      ],
      "text/plain": [
       "       CRIM        ZN     INDUS      CHAS       NOX       AGE       DIS  \\\n",
       "0 -0.419782  0.284830 -1.287909 -0.272599 -0.144217 -0.120013  0.140214   \n",
       "1 -0.417339 -0.487722 -0.593381 -0.272599 -0.740262  0.367166  0.557160   \n",
       "2 -0.417342 -0.487722 -0.593381 -0.272599 -0.740262 -0.265812  0.557160   \n",
       "3 -0.416750 -0.487722 -1.306878 -0.272599 -0.835284 -0.809889  1.077737   \n",
       "4 -0.412482 -0.487722 -1.306878 -0.272599 -0.835284 -0.511180  1.077737   \n",
       "\n",
       "        RAD       TAX   PTRATIO     ...         CRIM_B  CRIM_LSTAT     RM  \\\n",
       "0 -0.982843 -0.666608 -1.459000     ...      -0.185146    0.451502  6.575   \n",
       "1 -0.867883 -0.987329 -0.303094     ...      -0.184068    0.205514  6.421   \n",
       "2 -0.867883 -0.987329 -0.303094     ...      -0.165445    0.504452  7.185   \n",
       "3 -0.752922 -1.106115  0.113032     ...      -0.173436    0.567413  6.998   \n",
       "4 -0.752922 -1.106115  0.113032     ...      -0.181926    0.423413  7.147   \n",
       "\n",
       "        RM_2        RM_3         RM_4  LSTAT  LSTAT_2     LSTAT_3      LSTAT_4  \n",
       "0  43.230625  284.241359  1868.886938   4.98  24.8004  123.505992   615.059840  \n",
       "1  41.229241  264.732956  1699.850313   9.14  83.5396  763.551944  6978.864768  \n",
       "2  51.624225  370.920057  2665.060607   4.03  16.2409   65.450827   263.766833  \n",
       "3  48.972004  342.706084  2398.257176   2.94   8.6436   25.412184    74.711821  \n",
       "4  51.079609  365.065966  2609.126456   5.33  28.4089  151.419437   807.065599  \n",
       "\n",
       "[5 rows x 26 columns]"
      ]
     },
     "execution_count": 116,
     "metadata": {},
     "output_type": "execute_result"
    }
   ],
   "source": [
    "# Your code here\n",
    "df_inter.head()"
=======
   "execution_count": 8,
   "metadata": {},
   "outputs": [],
   "source": [
    "# Your code here"
>>>>>>> c323b778e3f76dd58f5370235b0611f4dfe5599d
   ]
  },
  {
   "cell_type": "markdown",
   "metadata": {},
   "source": [
    "## Full model R-squared"
   ]
  },
  {
   "cell_type": "markdown",
   "metadata": {},
   "source": [
    "Check out the R-squared of the full model."
   ]
  },
  {
   "cell_type": "code",
<<<<<<< HEAD
   "execution_count": 118,
   "metadata": {},
   "outputs": [
    {
     "data": {
      "text/plain": [
       "0.7678826820998769"
      ]
     },
     "execution_count": 118,
     "metadata": {},
     "output_type": "execute_result"
    }
   ],
   "source": [
    "# Your code here\n",
    "full_model = np.mean(cross_val_score(lr, df_inter, y, cv=cv_5, scoring='r2'))\n",
    "full_model"
=======
   "execution_count": 9,
   "metadata": {},
   "outputs": [],
   "source": [
    "# Your code here"
>>>>>>> c323b778e3f76dd58f5370235b0611f4dfe5599d
   ]
  },
  {
   "cell_type": "markdown",
   "metadata": {},
   "source": [
    "## Finding the best Lasso regularization parameter"
   ]
  },
  {
   "cell_type": "markdown",
   "metadata": {},
   "source": [
    "You've learned that, when using Lasso regularization, your coefficients shrink to 0 when using a higher regularization parameter. Now the question is which value we should choose for the regularization parameter. \n",
    "\n",
    "This is where the AIC and BIC come in handy! We'll use both criteria in what follows and perform cross-validation to select an optimal value of the regularization parameter alpha of the Lasso estimator.\n",
    "\n",
    "Read the page here: https://scikit-learn.org/stable/auto_examples/linear_model/plot_lasso_model_selection.html and create a similar plot as the first one listed on the page. "
   ]
  },
  {
   "cell_type": "code",
<<<<<<< HEAD
   "execution_count": 122,
   "metadata": {},
   "outputs": [
    {
     "data": {
      "image/png": "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\n",
      "text/plain": [
       "<Figure size 432x288 with 1 Axes>"
      ]
     },
     "metadata": {
      "needs_background": "light"
     },
     "output_type": "display_data"
    }
   ],
   "source": [
    "# Your code here\n",
    "from sklearn.linear_model import LassoCV, LassoLarsCV, LassoLarsIC\n",
    "EPSILON = 1e-4\n",
    "model_bic = LassoLarsIC(criterion='bic')\n",
    "#t1 = time.time()\n",
    "model_bic.fit(df_inter, y)\n",
    "#t_bic = time.time() - t1\n",
    "alpha_bic_ = model_bic.alpha_\n",
    "\n",
    "model_aic = LassoLarsIC(criterion='aic')\n",
    "model_aic.fit(df_inter, y)\n",
    "alpha_aic_ = model_aic.alpha_\n",
    "\n",
    "\n",
    "def plot_ic_criterion(model, name, color):\n",
    "    alpha_ = model.alpha_ + EPSILON\n",
    "    alphas_ = model.alphas_ + EPSILON\n",
    "    criterion_ = model.criterion_\n",
    "    plt.plot(-np.log10(alphas_), criterion_, '--', color=color,\n",
    "             linewidth=3, label='%s criterion' % name)\n",
    "    plt.axvline(-np.log10(alpha_), color=color, linewidth=3,\n",
    "                label='alpha: %s estimate' % name)\n",
    "    plt.xlabel('-log(alpha)')\n",
    "    plt.ylabel('criterion')\n",
    "\n",
    "plt.figure()\n",
    "plot_ic_criterion(model_aic, 'AIC', 'b')\n",
    "plot_ic_criterion(model_bic, 'BIC', 'r')\n",
    "plt.legend()\n",
    "plt.title('Information-criterion for model selection');"
=======
   "execution_count": 10,
   "metadata": {},
   "outputs": [],
   "source": [
    "# Your code here"
>>>>>>> c323b778e3f76dd58f5370235b0611f4dfe5599d
   ]
  },
  {
   "cell_type": "code",
   "execution_count": null,
   "metadata": {},
   "outputs": [],
   "source": []
  },
  {
   "cell_type": "markdown",
   "metadata": {},
   "source": [
    "## Analyze the final result\n",
    "\n",
    "Finally, use the best value for regularization parameter according to AIC and BIC and compare the R squared parameters and MSE using train-test-split. Compare with the baseline model."
   ]
  },
  {
   "cell_type": "code",
<<<<<<< HEAD
   "execution_count": 124,
   "metadata": {},
   "outputs": [
    {
     "name": "stdout",
     "output_type": "stream",
     "text": [
      "Training r^2: 0.7140987275703052\n",
      "Testing r^2: 0.7789711851561979\n",
      "Training MSE: 21.587793773407313\n",
      "Testing MSE: 24.457580698067183\n"
     ]
    }
   ],
   "source": [
    "# Code for baseline model\n",
    "from sklearn.metrics import mean_squared_error, mean_squared_log_error\n",
    "from sklearn.model_selection import train_test_split\n",
    "\n",
    "X_train, X_test, y_train, y_test = train_test_split(scaled_df, y)\n",
    "lr.fit(X_train, y_train)\n",
    "print('Training r^2:', lr.score(X_train, y_train))\n",
    "print('Testing r^2:', lr.score(X_test, y_test))\n",
    "print('Training MSE:', mean_squared_error(y_train, lr.predict(X_train)))\n",
    "print('Testing MSE:', mean_squared_error(y_test, lr.predict(X_test)))"
=======
   "execution_count": 11,
   "metadata": {},
   "outputs": [],
   "source": [
    "# Code for baseline model"
>>>>>>> c323b778e3f76dd58f5370235b0611f4dfe5599d
   ]
  },
  {
   "cell_type": "code",
<<<<<<< HEAD
   "execution_count": 129,
   "metadata": {},
   "outputs": [
    {
     "name": "stdout",
     "output_type": "stream",
     "text": [
      "Training r^2: 0.8154862481272004\n",
      "Testing r^2: 0.7692795101383467\n",
      "Training MSE: 15.621429298330577\n",
      "Testing MSE: 19.275856812969984\n"
     ]
    }
   ],
   "source": [
    "# code for lasso with alpha from AIC\n",
    "from sklearn.linear_model import Lasso\n",
    "X_train, X_test, y_train, y_test = train_test_split(df_inter, y)\n",
    "lasso = Lasso(alpha=model_aic.alpha_)\n",
    "lasso.fit(X_train, y_train)\n",
    "print('Training r^2:', lasso.score(X_train, y_train))\n",
    "print('Testing r^2:', lasso.score(X_test, y_test))\n",
    "print('Training MSE:', mean_squared_error(y_train, lasso.predict(X_train)))\n",
    "print('Testing MSE:', mean_squared_error(y_test, lasso.predict(X_test)))"
=======
   "execution_count": 12,
   "metadata": {},
   "outputs": [],
   "source": [
    "# code for lasso with alpha from AIC"
>>>>>>> c323b778e3f76dd58f5370235b0611f4dfe5599d
   ]
  },
  {
   "cell_type": "code",
<<<<<<< HEAD
   "execution_count": 130,
   "metadata": {},
   "outputs": [
    {
     "name": "stdout",
     "output_type": "stream",
     "text": [
      "Training r^2: 0.8144987204696313\n",
      "Testing r^2: 0.7725337478260096\n",
      "Training MSE: 15.705036039434054\n",
      "Testing MSE: 19.00397710371499\n"
     ]
    }
   ],
   "source": [
    "# code for lasso with alpha from BIC\n",
    "lasso = Lasso(alpha=model_bic.alpha_)\n",
    "lasso.fit(X_train, y_train)\n",
    "print('Training r^2:', lasso.score(X_train, y_train))\n",
    "print('Testing r^2:', lasso.score(X_test, y_test))\n",
    "print('Training MSE:', mean_squared_error(y_train, lasso.predict(X_train)))\n",
    "print('Testing MSE:', mean_squared_error(y_test, lasso.predict(X_test)))"
=======
   "execution_count": 13,
   "metadata": {},
   "outputs": [],
   "source": [
    "# code for lasso with alpha from BIC"
>>>>>>> c323b778e3f76dd58f5370235b0611f4dfe5599d
   ]
  },
  {
   "cell_type": "markdown",
   "metadata": {},
   "source": [
    "## Level Up - Optional"
   ]
  },
  {
   "cell_type": "markdown",
   "metadata": {},
   "source": [
    "### Create a Lasso Path\n",
    "\n",
    "From this section, you know that when using lasso, more parameters shrink to zero as your regularization parameter goes up. In Scikit-Learn there is a function lasso_path which visualizes the shrinkage of the coefficients while alpha changes. Try this out yourself!\n",
    "\n",
    "https://scikit-learn.org/stable/auto_examples/linear_model/plot_lasso_coordinate_descent_path.html#sphx-glr-auto-examples-linear-model-plot-lasso-coordinate-descent-path-py"
   ]
  },
  {
   "cell_type": "markdown",
   "metadata": {},
   "source": [
    "### AIC and BIC for subset selection\n",
    "This notebook shows how you can use AIC and BIC purely for feature selection. Try this code out on our Boston Housing data!"
   ]
  },
  {
   "cell_type": "markdown",
   "metadata": {},
   "source": [
    "https://xavierbourretsicotte.github.io/subset_selection.html"
   ]
  },
  {
   "cell_type": "markdown",
   "metadata": {},
   "source": [
    "## Summary"
   ]
  },
  {
   "cell_type": "markdown",
   "metadata": {},
   "source": [
    "Congratulations! You now know how to create better linear models and how to use AIC and BIC for both feature selection and to optimize your regularization parameter when performing Ridge and Lasso. "
   ]
  }
 ],
 "metadata": {
  "kernelspec": {
   "display_name": "Python 3",
   "language": "python",
   "name": "python3"
  },
  "language_info": {
   "codemirror_mode": {
    "name": "ipython",
    "version": 3
   },
   "file_extension": ".py",
   "mimetype": "text/x-python",
   "name": "python",
   "nbconvert_exporter": "python",
   "pygments_lexer": "ipython3",
<<<<<<< HEAD
   "version": "3.7.1"
=======
   "version": "3.6.6"
>>>>>>> c323b778e3f76dd58f5370235b0611f4dfe5599d
  }
 },
 "nbformat": 4,
 "nbformat_minor": 2
}
